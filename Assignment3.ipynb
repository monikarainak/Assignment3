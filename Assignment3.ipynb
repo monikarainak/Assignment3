{
 "cells": [
  {
   "cell_type": "markdown",
   "id": "a0792a35",
   "metadata": {},
   "source": [
    "1. Why are functions advantageous to have in your programs?"
   ]
  },
  {
   "cell_type": "markdown",
   "id": "54b328c4",
   "metadata": {},
   "source": [
    "Ans: Functions reduces the  duplicate code. This makes programs shorter, easier to read, and easier to update."
   ]
  },
  {
   "cell_type": "markdown",
   "id": "b71e0be3",
   "metadata": {},
   "source": [
    "2. When does the code in a function run: when it's specified or when it's called?"
   ]
  },
  {
   "cell_type": "markdown",
   "id": "6d850881",
   "metadata": {},
   "source": [
    "Ans: when we write code for function call then only function run\n",
    "     When we want required code which is already used in function so instead of writing duplicate code we can call function to      reduce duplication in code and code looks shorter and easier to understand"
   ]
  },
  {
   "cell_type": "markdown",
   "id": "145dca29",
   "metadata": {},
   "source": [
    "3. What statement creates a function?"
   ]
  },
  {
   "cell_type": "markdown",
   "id": "5ad0f304",
   "metadata": {},
   "source": [
    "Ans: def statement creates a function"
   ]
  },
  {
   "cell_type": "markdown",
   "id": "05288e79",
   "metadata": {},
   "source": [
    "4. What is the difference between a function and a function call?"
   ]
  },
  {
   "cell_type": "markdown",
   "id": "f2b7b0cb",
   "metadata": {},
   "source": [
    "Ans: A function is a block of code that does a particular operation and returns a result. It usually accepts inputs as parameters and returns a result. The parameters are not mandatory.\n",
    "\n",
    "e.g\n",
    "def add(a,b):\n",
    "    return a+b\n",
    "\n",
    "A function call is the code used to pass control to a function.\n",
    "\n",
    "E.g.:\n",
    "\n",
    "b = add(5,6)"
   ]
  },
  {
   "cell_type": "markdown",
   "id": "2ba1a8c7",
   "metadata": {},
   "source": [
    "5. How many global scopes are there in a Python program? How many local scopes?"
   ]
  },
  {
   "cell_type": "markdown",
   "id": "ffb3063c",
   "metadata": {},
   "source": [
    "Ans:\n",
    "    only one global Python scope per program execution\n",
    "    "
   ]
  },
  {
   "cell_type": "markdown",
   "id": "825420e1",
   "metadata": {},
   "source": [
    "6. What happens to variables in a local scope when the function call returns?"
   ]
  },
  {
   "cell_type": "markdown",
   "id": "ee9ae9ab",
   "metadata": {},
   "source": [
    "Ans:  when function call returns the local variables are destroyed.local variables disappear after the function returns."
   ]
  },
  {
   "cell_type": "markdown",
   "id": "716505b4",
   "metadata": {},
   "source": [
    "7. What is the concept of a return value? Is it possible to have a return value in an expression?"
   ]
  },
  {
   "cell_type": "markdown",
   "id": "61cc3aac",
   "metadata": {},
   "source": [
    "Ans:  A return is a value that a function returns to the calling script or function when it completes its task. A return value can be handle any one of the four variable types:, integer, object, or string.\n",
    " yes, is it possible to have return value in an expression"
   ]
  },
  {
   "cell_type": "markdown",
   "id": "988bbafd",
   "metadata": {},
   "source": [
    "8. If a function does not have a return statement, what is the return value of a call to that function?"
   ]
  },
  {
   "cell_type": "markdown",
   "id": "9b1365c7",
   "metadata": {},
   "source": [
    "Ans:  If no return statement appears in a function, control automatically returns to the calling function after the last statement of the called function is executed. In this case, the return value of the called function is undefined."
   ]
  },
  {
   "cell_type": "markdown",
   "id": "30a6dac5",
   "metadata": {},
   "source": [
    "9. How do you make a function variable refer to the global variable?"
   ]
  },
  {
   "cell_type": "markdown",
   "id": "9d00ac00",
   "metadata": {},
   "source": [
    "Ans: use the global keyword for function variable refer to the global variable"
   ]
  },
  {
   "cell_type": "markdown",
   "id": "9b5c9888",
   "metadata": {},
   "source": [
    "10. What is the data type of None?"
   ]
  },
  {
   "cell_type": "markdown",
   "id": "278ddbff",
   "metadata": {},
   "source": [
    "Ans: NoneType"
   ]
  },
  {
   "cell_type": "markdown",
   "id": "93f489da",
   "metadata": {},
   "source": [
    "11. What does the sentence import areallyourpetsnamederic do?"
   ]
  },
  {
   "cell_type": "markdown",
   "id": "58d4893d",
   "metadata": {},
   "source": [
    "Ans: That import statement imports a module named areallyourpetsnamederic"
   ]
  },
  {
   "cell_type": "markdown",
   "id": "b8f25b29",
   "metadata": {},
   "source": [
    "12. If you had a bacon() feature in a spam module, what would you call it after importing spam?"
   ]
  },
  {
   "cell_type": "markdown",
   "id": "fb4ce108",
   "metadata": {},
   "source": [
    "Ans: spam.bacon()"
   ]
  },
  {
   "cell_type": "markdown",
   "id": "f83267e7",
   "metadata": {},
   "source": [
    "13. What can you do to save a programme from crashing if it encounters an error?"
   ]
  },
  {
   "cell_type": "markdown",
   "id": "ee07452b",
   "metadata": {},
   "source": [
    "Ans: use Exception handling  try - except and try - except - finally "
   ]
  },
  {
   "cell_type": "markdown",
   "id": "2a51771d",
   "metadata": {},
   "source": [
    "14. What is the purpose of the try clause? What is the purpose of the except clause?"
   ]
  },
  {
   "cell_type": "markdown",
   "id": "b127309a",
   "metadata": {},
   "source": [
    "Ans:\n",
    "    \n",
    "    Try: The try block lets you test a block of code for errors.Since the try block raises an error, the except block will be executed\n",
    "    except:except clause is used to handle the error"
   ]
  },
  {
   "cell_type": "code",
   "execution_count": null,
   "id": "d3dcd264",
   "metadata": {},
   "outputs": [],
   "source": []
  }
 ],
 "metadata": {
  "kernelspec": {
   "display_name": "Python 3 (ipykernel)",
   "language": "python",
   "name": "python3"
  },
  "language_info": {
   "codemirror_mode": {
    "name": "ipython",
    "version": 3
   },
   "file_extension": ".py",
   "mimetype": "text/x-python",
   "name": "python",
   "nbconvert_exporter": "python",
   "pygments_lexer": "ipython3",
   "version": "3.9.7"
  }
 },
 "nbformat": 4,
 "nbformat_minor": 5
}
